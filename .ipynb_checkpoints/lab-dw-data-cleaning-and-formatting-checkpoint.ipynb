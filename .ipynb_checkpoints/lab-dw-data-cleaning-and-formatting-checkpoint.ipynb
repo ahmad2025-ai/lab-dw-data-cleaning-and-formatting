{
 "cells": [
  {
   "cell_type": "markdown",
   "id": "25d7736c-ba17-4aff-b6bb-66eba20fbf4e",
   "metadata": {
    "id": "25d7736c-ba17-4aff-b6bb-66eba20fbf4e"
   },
   "source": [
    "# Lab | Data Cleaning and Formatting"
   ]
  },
  {
   "cell_type": "markdown",
   "id": "d1973e9e-8be6-4039-b70e-d73ee0d94c99",
   "metadata": {
    "id": "d1973e9e-8be6-4039-b70e-d73ee0d94c99"
   },
   "source": [
    "In this lab, we will be working with the customer data from an insurance company, which can be found in the CSV file located at the following link: https://raw.githubusercontent.com/data-bootcamp-v4/data/main/file1.csv\n"
   ]
  },
  {
   "cell_type": "markdown",
   "id": "31b8a9e7-7db9-4604-991b-ef6771603e57",
   "metadata": {
    "id": "31b8a9e7-7db9-4604-991b-ef6771603e57"
   },
   "source": [
    "# Challenge 1: Data Cleaning and Formatting"
   ]
  },
  {
   "cell_type": "markdown",
   "id": "81553f19-9f2c-484b-8940-520aff884022",
   "metadata": {
    "id": "81553f19-9f2c-484b-8940-520aff884022"
   },
   "source": [
    "## Exercise 1: Cleaning Column Names"
   ]
  },
  {
   "cell_type": "markdown",
   "id": "34a929f4-1be4-4fa8-adda-42ffd920be90",
   "metadata": {
    "id": "34a929f4-1be4-4fa8-adda-42ffd920be90"
   },
   "source": [
    "To ensure consistency and ease of use, standardize the column names of the dataframe. Start by taking a first look at the dataframe and identifying any column names that need to be modified. Use appropriate naming conventions and make sure that column names are descriptive and informative.\n",
    "\n",
    "*Hint*:\n",
    "- *Column names should be in lower case*\n",
    "- *White spaces in column names should be replaced by `_`*\n",
    "- *`st` could be replaced for `state`*"
   ]
  },
  {
   "cell_type": "code",
   "execution_count": 3,
   "id": "5810735c-8056-4442-bbf2-dda38d3e284a",
   "metadata": {
    "id": "5810735c-8056-4442-bbf2-dda38d3e284a"
   },
   "outputs": [],
   "source": [
    "# Your code here\n",
    "import pandas as pd\n"
   ]
  },
  {
   "cell_type": "code",
   "execution_count": 5,
   "id": "87fe46ee-c8e9-4406-8453-aecece747be7",
   "metadata": {},
   "outputs": [],
   "source": [
    "url=\"https://raw.githubusercontent.com/data-bootcamp-v4/data/main/file1.csv\"\n",
    "df=pd.read_csv(url)"
   ]
  },
  {
   "cell_type": "code",
   "execution_count": 7,
   "id": "7b55607d-6a63-4469-a2d4-1883c35846bb",
   "metadata": {},
   "outputs": [
    {
     "data": {
      "text/html": [
       "<div>\n",
       "<style scoped>\n",
       "    .dataframe tbody tr th:only-of-type {\n",
       "        vertical-align: middle;\n",
       "    }\n",
       "\n",
       "    .dataframe tbody tr th {\n",
       "        vertical-align: top;\n",
       "    }\n",
       "\n",
       "    .dataframe thead th {\n",
       "        text-align: right;\n",
       "    }\n",
       "</style>\n",
       "<table border=\"1\" class=\"dataframe\">\n",
       "  <thead>\n",
       "    <tr style=\"text-align: right;\">\n",
       "      <th></th>\n",
       "      <th>Customer</th>\n",
       "      <th>ST</th>\n",
       "      <th>GENDER</th>\n",
       "      <th>Education</th>\n",
       "      <th>Customer Lifetime Value</th>\n",
       "      <th>Income</th>\n",
       "      <th>Monthly Premium Auto</th>\n",
       "      <th>Number of Open Complaints</th>\n",
       "      <th>Policy Type</th>\n",
       "      <th>Vehicle Class</th>\n",
       "      <th>Total Claim Amount</th>\n",
       "    </tr>\n",
       "  </thead>\n",
       "  <tbody>\n",
       "    <tr>\n",
       "      <th>0</th>\n",
       "      <td>RB50392</td>\n",
       "      <td>Washington</td>\n",
       "      <td>NaN</td>\n",
       "      <td>Master</td>\n",
       "      <td>NaN</td>\n",
       "      <td>0.0</td>\n",
       "      <td>1000.0</td>\n",
       "      <td>1/0/00</td>\n",
       "      <td>Personal Auto</td>\n",
       "      <td>Four-Door Car</td>\n",
       "      <td>2.704934</td>\n",
       "    </tr>\n",
       "    <tr>\n",
       "      <th>1</th>\n",
       "      <td>QZ44356</td>\n",
       "      <td>Arizona</td>\n",
       "      <td>F</td>\n",
       "      <td>Bachelor</td>\n",
       "      <td>697953.59%</td>\n",
       "      <td>0.0</td>\n",
       "      <td>94.0</td>\n",
       "      <td>1/0/00</td>\n",
       "      <td>Personal Auto</td>\n",
       "      <td>Four-Door Car</td>\n",
       "      <td>1131.464935</td>\n",
       "    </tr>\n",
       "    <tr>\n",
       "      <th>2</th>\n",
       "      <td>AI49188</td>\n",
       "      <td>Nevada</td>\n",
       "      <td>F</td>\n",
       "      <td>Bachelor</td>\n",
       "      <td>1288743.17%</td>\n",
       "      <td>48767.0</td>\n",
       "      <td>108.0</td>\n",
       "      <td>1/0/00</td>\n",
       "      <td>Personal Auto</td>\n",
       "      <td>Two-Door Car</td>\n",
       "      <td>566.472247</td>\n",
       "    </tr>\n",
       "    <tr>\n",
       "      <th>3</th>\n",
       "      <td>WW63253</td>\n",
       "      <td>California</td>\n",
       "      <td>M</td>\n",
       "      <td>Bachelor</td>\n",
       "      <td>764586.18%</td>\n",
       "      <td>0.0</td>\n",
       "      <td>106.0</td>\n",
       "      <td>1/0/00</td>\n",
       "      <td>Corporate Auto</td>\n",
       "      <td>SUV</td>\n",
       "      <td>529.881344</td>\n",
       "    </tr>\n",
       "    <tr>\n",
       "      <th>4</th>\n",
       "      <td>GA49547</td>\n",
       "      <td>Washington</td>\n",
       "      <td>M</td>\n",
       "      <td>High School or Below</td>\n",
       "      <td>536307.65%</td>\n",
       "      <td>36357.0</td>\n",
       "      <td>68.0</td>\n",
       "      <td>1/0/00</td>\n",
       "      <td>Personal Auto</td>\n",
       "      <td>Four-Door Car</td>\n",
       "      <td>17.269323</td>\n",
       "    </tr>\n",
       "    <tr>\n",
       "      <th>...</th>\n",
       "      <td>...</td>\n",
       "      <td>...</td>\n",
       "      <td>...</td>\n",
       "      <td>...</td>\n",
       "      <td>...</td>\n",
       "      <td>...</td>\n",
       "      <td>...</td>\n",
       "      <td>...</td>\n",
       "      <td>...</td>\n",
       "      <td>...</td>\n",
       "      <td>...</td>\n",
       "    </tr>\n",
       "    <tr>\n",
       "      <th>4003</th>\n",
       "      <td>NaN</td>\n",
       "      <td>NaN</td>\n",
       "      <td>NaN</td>\n",
       "      <td>NaN</td>\n",
       "      <td>NaN</td>\n",
       "      <td>NaN</td>\n",
       "      <td>NaN</td>\n",
       "      <td>NaN</td>\n",
       "      <td>NaN</td>\n",
       "      <td>NaN</td>\n",
       "      <td>NaN</td>\n",
       "    </tr>\n",
       "    <tr>\n",
       "      <th>4004</th>\n",
       "      <td>NaN</td>\n",
       "      <td>NaN</td>\n",
       "      <td>NaN</td>\n",
       "      <td>NaN</td>\n",
       "      <td>NaN</td>\n",
       "      <td>NaN</td>\n",
       "      <td>NaN</td>\n",
       "      <td>NaN</td>\n",
       "      <td>NaN</td>\n",
       "      <td>NaN</td>\n",
       "      <td>NaN</td>\n",
       "    </tr>\n",
       "    <tr>\n",
       "      <th>4005</th>\n",
       "      <td>NaN</td>\n",
       "      <td>NaN</td>\n",
       "      <td>NaN</td>\n",
       "      <td>NaN</td>\n",
       "      <td>NaN</td>\n",
       "      <td>NaN</td>\n",
       "      <td>NaN</td>\n",
       "      <td>NaN</td>\n",
       "      <td>NaN</td>\n",
       "      <td>NaN</td>\n",
       "      <td>NaN</td>\n",
       "    </tr>\n",
       "    <tr>\n",
       "      <th>4006</th>\n",
       "      <td>NaN</td>\n",
       "      <td>NaN</td>\n",
       "      <td>NaN</td>\n",
       "      <td>NaN</td>\n",
       "      <td>NaN</td>\n",
       "      <td>NaN</td>\n",
       "      <td>NaN</td>\n",
       "      <td>NaN</td>\n",
       "      <td>NaN</td>\n",
       "      <td>NaN</td>\n",
       "      <td>NaN</td>\n",
       "    </tr>\n",
       "    <tr>\n",
       "      <th>4007</th>\n",
       "      <td>NaN</td>\n",
       "      <td>NaN</td>\n",
       "      <td>NaN</td>\n",
       "      <td>NaN</td>\n",
       "      <td>NaN</td>\n",
       "      <td>NaN</td>\n",
       "      <td>NaN</td>\n",
       "      <td>NaN</td>\n",
       "      <td>NaN</td>\n",
       "      <td>NaN</td>\n",
       "      <td>NaN</td>\n",
       "    </tr>\n",
       "  </tbody>\n",
       "</table>\n",
       "<p>4008 rows × 11 columns</p>\n",
       "</div>"
      ],
      "text/plain": [
       "     Customer          ST GENDER             Education  \\\n",
       "0     RB50392  Washington    NaN                Master   \n",
       "1     QZ44356     Arizona      F              Bachelor   \n",
       "2     AI49188      Nevada      F              Bachelor   \n",
       "3     WW63253  California      M              Bachelor   \n",
       "4     GA49547  Washington      M  High School or Below   \n",
       "...       ...         ...    ...                   ...   \n",
       "4003      NaN         NaN    NaN                   NaN   \n",
       "4004      NaN         NaN    NaN                   NaN   \n",
       "4005      NaN         NaN    NaN                   NaN   \n",
       "4006      NaN         NaN    NaN                   NaN   \n",
       "4007      NaN         NaN    NaN                   NaN   \n",
       "\n",
       "     Customer Lifetime Value   Income  Monthly Premium Auto  \\\n",
       "0                        NaN      0.0                1000.0   \n",
       "1                 697953.59%      0.0                  94.0   \n",
       "2                1288743.17%  48767.0                 108.0   \n",
       "3                 764586.18%      0.0                 106.0   \n",
       "4                 536307.65%  36357.0                  68.0   \n",
       "...                      ...      ...                   ...   \n",
       "4003                     NaN      NaN                   NaN   \n",
       "4004                     NaN      NaN                   NaN   \n",
       "4005                     NaN      NaN                   NaN   \n",
       "4006                     NaN      NaN                   NaN   \n",
       "4007                     NaN      NaN                   NaN   \n",
       "\n",
       "     Number of Open Complaints     Policy Type  Vehicle Class  \\\n",
       "0                       1/0/00   Personal Auto  Four-Door Car   \n",
       "1                       1/0/00   Personal Auto  Four-Door Car   \n",
       "2                       1/0/00   Personal Auto   Two-Door Car   \n",
       "3                       1/0/00  Corporate Auto            SUV   \n",
       "4                       1/0/00   Personal Auto  Four-Door Car   \n",
       "...                        ...             ...            ...   \n",
       "4003                       NaN             NaN            NaN   \n",
       "4004                       NaN             NaN            NaN   \n",
       "4005                       NaN             NaN            NaN   \n",
       "4006                       NaN             NaN            NaN   \n",
       "4007                       NaN             NaN            NaN   \n",
       "\n",
       "      Total Claim Amount  \n",
       "0               2.704934  \n",
       "1            1131.464935  \n",
       "2             566.472247  \n",
       "3             529.881344  \n",
       "4              17.269323  \n",
       "...                  ...  \n",
       "4003                 NaN  \n",
       "4004                 NaN  \n",
       "4005                 NaN  \n",
       "4006                 NaN  \n",
       "4007                 NaN  \n",
       "\n",
       "[4008 rows x 11 columns]"
      ]
     },
     "execution_count": 7,
     "metadata": {},
     "output_type": "execute_result"
    }
   ],
   "source": [
    "df"
   ]
  },
  {
   "cell_type": "code",
   "execution_count": 9,
   "id": "6f872030-2531-42c3-9ba8-d190da715a54",
   "metadata": {},
   "outputs": [
    {
     "name": "stdout",
     "output_type": "stream",
     "text": [
      "Index(['Customer', 'ST', 'GENDER', 'Education', 'Customer Lifetime Value',\n",
      "       'Income', 'Monthly Premium Auto', 'Number of Open Complaints',\n",
      "       'Policy Type', 'Vehicle Class', 'Total Claim Amount'],\n",
      "      dtype='object')\n"
     ]
    }
   ],
   "source": [
    "print(df.columns)\n"
   ]
  },
  {
   "cell_type": "code",
   "execution_count": 11,
   "id": "1b9737c8-537b-4cea-b764-2b5f98b05684",
   "metadata": {},
   "outputs": [
    {
     "name": "stdout",
     "output_type": "stream",
     "text": [
      "Index(['customer', 'state', 'gender', 'education', 'customer_lifetime_value',\n",
      "       'income', 'monthly_premium_auto', 'number_of_open_complaints',\n",
      "       'policy_type', 'vehicle_class', 'total_claim_amount'],\n",
      "      dtype='object')\n"
     ]
    }
   ],
   "source": [
    "# Standardize column names\n",
    "df.columns = df.columns.str.lower()  # Convert to lowercase\n",
    "df.columns = df.columns.str.replace(\" \", \"_\")  # Replace spaces with underscores\n",
    "df.columns = df.columns.str.replace(r\"\\bst\\b\", \"state\", regex=True)  # Replace 'st' with 'state'\n",
    "\n",
    "# Display updated column names\n",
    "print(df.columns)\n"
   ]
  },
  {
   "cell_type": "code",
   "execution_count": 13,
   "id": "238fb41d-e32f-4dd4-92fa-b7a241810dbc",
   "metadata": {},
   "outputs": [
    {
     "data": {
      "text/html": [
       "<div>\n",
       "<style scoped>\n",
       "    .dataframe tbody tr th:only-of-type {\n",
       "        vertical-align: middle;\n",
       "    }\n",
       "\n",
       "    .dataframe tbody tr th {\n",
       "        vertical-align: top;\n",
       "    }\n",
       "\n",
       "    .dataframe thead th {\n",
       "        text-align: right;\n",
       "    }\n",
       "</style>\n",
       "<table border=\"1\" class=\"dataframe\">\n",
       "  <thead>\n",
       "    <tr style=\"text-align: right;\">\n",
       "      <th></th>\n",
       "      <th>customer</th>\n",
       "      <th>state</th>\n",
       "      <th>gender</th>\n",
       "      <th>education</th>\n",
       "      <th>customer_lifetime_value</th>\n",
       "      <th>income</th>\n",
       "      <th>monthly_premium_auto</th>\n",
       "      <th>number_of_open_complaints</th>\n",
       "      <th>policy_type</th>\n",
       "      <th>vehicle_class</th>\n",
       "      <th>total_claim_amount</th>\n",
       "    </tr>\n",
       "  </thead>\n",
       "  <tbody>\n",
       "    <tr>\n",
       "      <th>0</th>\n",
       "      <td>RB50392</td>\n",
       "      <td>Washington</td>\n",
       "      <td>NaN</td>\n",
       "      <td>Master</td>\n",
       "      <td>NaN</td>\n",
       "      <td>0.0</td>\n",
       "      <td>1000.0</td>\n",
       "      <td>1/0/00</td>\n",
       "      <td>Personal Auto</td>\n",
       "      <td>Four-Door Car</td>\n",
       "      <td>2.704934</td>\n",
       "    </tr>\n",
       "    <tr>\n",
       "      <th>1</th>\n",
       "      <td>QZ44356</td>\n",
       "      <td>Arizona</td>\n",
       "      <td>F</td>\n",
       "      <td>Bachelor</td>\n",
       "      <td>697953.59%</td>\n",
       "      <td>0.0</td>\n",
       "      <td>94.0</td>\n",
       "      <td>1/0/00</td>\n",
       "      <td>Personal Auto</td>\n",
       "      <td>Four-Door Car</td>\n",
       "      <td>1131.464935</td>\n",
       "    </tr>\n",
       "    <tr>\n",
       "      <th>2</th>\n",
       "      <td>AI49188</td>\n",
       "      <td>Nevada</td>\n",
       "      <td>F</td>\n",
       "      <td>Bachelor</td>\n",
       "      <td>1288743.17%</td>\n",
       "      <td>48767.0</td>\n",
       "      <td>108.0</td>\n",
       "      <td>1/0/00</td>\n",
       "      <td>Personal Auto</td>\n",
       "      <td>Two-Door Car</td>\n",
       "      <td>566.472247</td>\n",
       "    </tr>\n",
       "    <tr>\n",
       "      <th>3</th>\n",
       "      <td>WW63253</td>\n",
       "      <td>California</td>\n",
       "      <td>M</td>\n",
       "      <td>Bachelor</td>\n",
       "      <td>764586.18%</td>\n",
       "      <td>0.0</td>\n",
       "      <td>106.0</td>\n",
       "      <td>1/0/00</td>\n",
       "      <td>Corporate Auto</td>\n",
       "      <td>SUV</td>\n",
       "      <td>529.881344</td>\n",
       "    </tr>\n",
       "    <tr>\n",
       "      <th>4</th>\n",
       "      <td>GA49547</td>\n",
       "      <td>Washington</td>\n",
       "      <td>M</td>\n",
       "      <td>High School or Below</td>\n",
       "      <td>536307.65%</td>\n",
       "      <td>36357.0</td>\n",
       "      <td>68.0</td>\n",
       "      <td>1/0/00</td>\n",
       "      <td>Personal Auto</td>\n",
       "      <td>Four-Door Car</td>\n",
       "      <td>17.269323</td>\n",
       "    </tr>\n",
       "  </tbody>\n",
       "</table>\n",
       "</div>"
      ],
      "text/plain": [
       "  customer       state gender             education customer_lifetime_value  \\\n",
       "0  RB50392  Washington    NaN                Master                     NaN   \n",
       "1  QZ44356     Arizona      F              Bachelor              697953.59%   \n",
       "2  AI49188      Nevada      F              Bachelor             1288743.17%   \n",
       "3  WW63253  California      M              Bachelor              764586.18%   \n",
       "4  GA49547  Washington      M  High School or Below              536307.65%   \n",
       "\n",
       "    income  monthly_premium_auto number_of_open_complaints     policy_type  \\\n",
       "0      0.0                1000.0                    1/0/00   Personal Auto   \n",
       "1      0.0                  94.0                    1/0/00   Personal Auto   \n",
       "2  48767.0                 108.0                    1/0/00   Personal Auto   \n",
       "3      0.0                 106.0                    1/0/00  Corporate Auto   \n",
       "4  36357.0                  68.0                    1/0/00   Personal Auto   \n",
       "\n",
       "   vehicle_class  total_claim_amount  \n",
       "0  Four-Door Car            2.704934  \n",
       "1  Four-Door Car         1131.464935  \n",
       "2   Two-Door Car          566.472247  \n",
       "3            SUV          529.881344  \n",
       "4  Four-Door Car           17.269323  "
      ]
     },
     "execution_count": 13,
     "metadata": {},
     "output_type": "execute_result"
    }
   ],
   "source": [
    "df.head()"
   ]
  },
  {
   "cell_type": "markdown",
   "id": "9cb501ec-36ff-4589-b872-6252bb150316",
   "metadata": {
    "id": "9cb501ec-36ff-4589-b872-6252bb150316"
   },
   "source": [
    "## Exercise 2: Cleaning invalid Values"
   ]
  },
  {
   "cell_type": "markdown",
   "id": "771fdcf3-8e20-4b06-9c24-3a93ba2b0909",
   "metadata": {
    "id": "771fdcf3-8e20-4b06-9c24-3a93ba2b0909"
   },
   "source": [
    "The dataset contains columns with inconsistent and incorrect values that could affect the accuracy of our analysis. Therefore, we need to clean these columns to ensure that they only contain valid data.\n",
    "\n",
    "Note that this exercise will focus only on cleaning inconsistent values and will not involve handling null values (NaN or None).\n",
    "\n",
    "*Hint*:\n",
    "- *Gender column contains various inconsistent values such as \"F\", \"M\", \"Femal\", \"Male\", \"female\", which need to be standardized, for example, to \"M\" and \"F\".*\n",
    "- *State abbreviations be can replaced with its full name, for example \"AZ\": \"Arizona\", \"Cali\": \"California\", \"WA\": \"Washington\"*\n",
    "- *In education, \"Bachelors\" could be replaced by \"Bachelor\"*\n",
    "- *In Customer Lifetime Value, delete the `%` character*\n",
    "- *In vehicle class, \"Sports Car\", \"Luxury SUV\" and \"Luxury Car\" could be replaced by \"Luxury\"*"
   ]
  },
  {
   "cell_type": "code",
   "execution_count": 15,
   "id": "3f8ee5cb-50ab-48af-8a9f-9a389804033c",
   "metadata": {
    "id": "3f8ee5cb-50ab-48af-8a9f-9a389804033c"
   },
   "outputs": [
    {
     "name": "stdout",
     "output_type": "stream",
     "text": [
      "[nan 'F' 'M']\n"
     ]
    }
   ],
   "source": [
    "# Your code here\n",
    "# Standardize gender column\n",
    "df[\"gender\"] = df[\"gender\"].str.strip().str.lower()  # Convert to lowercase and remove spaces\n",
    "df[\"gender\"] = df[\"gender\"].replace({\"female\": \"F\", \"femal\": \"F\", \"f\": \"F\", \"male\": \"M\", \"m\": \"M\"})\n",
    "\n",
    "# Verify changes\n",
    "print(df[\"gender\"].unique())  # Should only contain 'M' and 'F'\n"
   ]
  },
  {
   "cell_type": "code",
   "execution_count": 17,
   "id": "1e39b333-ab0e-41aa-aba2-ab7a266ff29a",
   "metadata": {},
   "outputs": [
    {
     "name": "stdout",
     "output_type": "stream",
     "text": [
      "['Washington' 'Arizona' 'Nevada' 'California' 'Oregon' nan]\n"
     ]
    }
   ],
   "source": [
    "# Define state mappings\n",
    "state_mapping = {\n",
    "    \"AZ\": \"Arizona\", \"Cali\": \"California\", \"WA\": \"Washington\", \n",
    "    \"NY\": \"New York\", \"TX\": \"Texas\", \"FL\": \"Florida\"\n",
    "}\n",
    "\n",
    "# Replace state abbreviations\n",
    "df[\"state\"] = df[\"state\"].replace(state_mapping)\n",
    "\n",
    "# Verify changes\n",
    "print(df[\"state\"].unique())\n"
   ]
  },
  {
   "cell_type": "code",
   "execution_count": 19,
   "id": "c4a1141f-b7ce-408e-9e0c-12878a11f98b",
   "metadata": {},
   "outputs": [
    {
     "name": "stdout",
     "output_type": "stream",
     "text": [
      "['Master' 'Bachelor' 'High School or Below' 'College' 'Doctor' nan]\n"
     ]
    }
   ],
   "source": [
    "df[\"education\"] = df[\"education\"].replace({\"Bachelors\": \"Bachelor\"})\n",
    "\n",
    "# Verify changes\n",
    "print(df[\"education\"].unique())\n"
   ]
  },
  {
   "cell_type": "code",
   "execution_count": 21,
   "id": "e5ce59e0-2500-4523-be1a-85ab8b52ca2b",
   "metadata": {},
   "outputs": [
    {
     "name": "stdout",
     "output_type": "stream",
     "text": [
      "0           NaN\n",
      "1     697953.59\n",
      "2    1288743.17\n",
      "3     764586.18\n",
      "4     536307.65\n",
      "Name: customer_lifetime_value, dtype: float64\n"
     ]
    }
   ],
   "source": [
    "# Remove '%' and convert to float\n",
    "df[\"customer_lifetime_value\"] = df[\"customer_lifetime_value\"].str.replace(\"%\", \"\").astype(float)\n",
    "\n",
    "# Verify changes\n",
    "print(df[\"customer_lifetime_value\"].head())\n"
   ]
  },
  {
   "cell_type": "code",
   "execution_count": 23,
   "id": "dc29fa46-aa66-430b-8ef9-04ee9429a180",
   "metadata": {},
   "outputs": [
    {
     "name": "stdout",
     "output_type": "stream",
     "text": [
      "['Four-Door Car' 'Two-Door Car' 'SUV' 'Luxury' nan]\n"
     ]
    }
   ],
   "source": [
    "df[\"vehicle_class\"] = df[\"vehicle_class\"].replace({\n",
    "    \"Sports Car\": \"Luxury\",\n",
    "    \"Luxury SUV\": \"Luxury\",\n",
    "    \"Luxury Car\": \"Luxury\"\n",
    "})\n",
    "\n",
    "# Verify changes\n",
    "print(df[\"vehicle_class\"].unique())\n"
   ]
  },
  {
   "cell_type": "code",
   "execution_count": 25,
   "id": "1d51076c-6b1e-4a3c-a0b1-c240431a5bbc",
   "metadata": {},
   "outputs": [
    {
     "name": "stdout",
     "output_type": "stream",
     "text": [
      "<class 'pandas.core.frame.DataFrame'>\n",
      "RangeIndex: 4008 entries, 0 to 4007\n",
      "Data columns (total 11 columns):\n",
      " #   Column                     Non-Null Count  Dtype  \n",
      "---  ------                     --------------  -----  \n",
      " 0   customer                   1071 non-null   object \n",
      " 1   state                      1071 non-null   object \n",
      " 2   gender                     954 non-null    object \n",
      " 3   education                  1071 non-null   object \n",
      " 4   customer_lifetime_value    1068 non-null   float64\n",
      " 5   income                     1071 non-null   float64\n",
      " 6   monthly_premium_auto       1071 non-null   float64\n",
      " 7   number_of_open_complaints  1071 non-null   object \n",
      " 8   policy_type                1071 non-null   object \n",
      " 9   vehicle_class              1071 non-null   object \n",
      " 10  total_claim_amount         1071 non-null   float64\n",
      "dtypes: float64(4), object(7)\n",
      "memory usage: 344.6+ KB\n"
     ]
    },
    {
     "data": {
      "text/html": [
       "<div>\n",
       "<style scoped>\n",
       "    .dataframe tbody tr th:only-of-type {\n",
       "        vertical-align: middle;\n",
       "    }\n",
       "\n",
       "    .dataframe tbody tr th {\n",
       "        vertical-align: top;\n",
       "    }\n",
       "\n",
       "    .dataframe thead th {\n",
       "        text-align: right;\n",
       "    }\n",
       "</style>\n",
       "<table border=\"1\" class=\"dataframe\">\n",
       "  <thead>\n",
       "    <tr style=\"text-align: right;\">\n",
       "      <th></th>\n",
       "      <th>customer</th>\n",
       "      <th>state</th>\n",
       "      <th>gender</th>\n",
       "      <th>education</th>\n",
       "      <th>customer_lifetime_value</th>\n",
       "      <th>income</th>\n",
       "      <th>monthly_premium_auto</th>\n",
       "      <th>number_of_open_complaints</th>\n",
       "      <th>policy_type</th>\n",
       "      <th>vehicle_class</th>\n",
       "      <th>total_claim_amount</th>\n",
       "    </tr>\n",
       "  </thead>\n",
       "  <tbody>\n",
       "    <tr>\n",
       "      <th>0</th>\n",
       "      <td>RB50392</td>\n",
       "      <td>Washington</td>\n",
       "      <td>NaN</td>\n",
       "      <td>Master</td>\n",
       "      <td>NaN</td>\n",
       "      <td>0.0</td>\n",
       "      <td>1000.0</td>\n",
       "      <td>1/0/00</td>\n",
       "      <td>Personal Auto</td>\n",
       "      <td>Four-Door Car</td>\n",
       "      <td>2.704934</td>\n",
       "    </tr>\n",
       "    <tr>\n",
       "      <th>1</th>\n",
       "      <td>QZ44356</td>\n",
       "      <td>Arizona</td>\n",
       "      <td>F</td>\n",
       "      <td>Bachelor</td>\n",
       "      <td>697953.59</td>\n",
       "      <td>0.0</td>\n",
       "      <td>94.0</td>\n",
       "      <td>1/0/00</td>\n",
       "      <td>Personal Auto</td>\n",
       "      <td>Four-Door Car</td>\n",
       "      <td>1131.464935</td>\n",
       "    </tr>\n",
       "    <tr>\n",
       "      <th>2</th>\n",
       "      <td>AI49188</td>\n",
       "      <td>Nevada</td>\n",
       "      <td>F</td>\n",
       "      <td>Bachelor</td>\n",
       "      <td>1288743.17</td>\n",
       "      <td>48767.0</td>\n",
       "      <td>108.0</td>\n",
       "      <td>1/0/00</td>\n",
       "      <td>Personal Auto</td>\n",
       "      <td>Two-Door Car</td>\n",
       "      <td>566.472247</td>\n",
       "    </tr>\n",
       "    <tr>\n",
       "      <th>3</th>\n",
       "      <td>WW63253</td>\n",
       "      <td>California</td>\n",
       "      <td>M</td>\n",
       "      <td>Bachelor</td>\n",
       "      <td>764586.18</td>\n",
       "      <td>0.0</td>\n",
       "      <td>106.0</td>\n",
       "      <td>1/0/00</td>\n",
       "      <td>Corporate Auto</td>\n",
       "      <td>SUV</td>\n",
       "      <td>529.881344</td>\n",
       "    </tr>\n",
       "    <tr>\n",
       "      <th>4</th>\n",
       "      <td>GA49547</td>\n",
       "      <td>Washington</td>\n",
       "      <td>M</td>\n",
       "      <td>High School or Below</td>\n",
       "      <td>536307.65</td>\n",
       "      <td>36357.0</td>\n",
       "      <td>68.0</td>\n",
       "      <td>1/0/00</td>\n",
       "      <td>Personal Auto</td>\n",
       "      <td>Four-Door Car</td>\n",
       "      <td>17.269323</td>\n",
       "    </tr>\n",
       "  </tbody>\n",
       "</table>\n",
       "</div>"
      ],
      "text/plain": [
       "  customer       state gender             education  customer_lifetime_value  \\\n",
       "0  RB50392  Washington    NaN                Master                      NaN   \n",
       "1  QZ44356     Arizona      F              Bachelor                697953.59   \n",
       "2  AI49188      Nevada      F              Bachelor               1288743.17   \n",
       "3  WW63253  California      M              Bachelor                764586.18   \n",
       "4  GA49547  Washington      M  High School or Below                536307.65   \n",
       "\n",
       "    income  monthly_premium_auto number_of_open_complaints     policy_type  \\\n",
       "0      0.0                1000.0                    1/0/00   Personal Auto   \n",
       "1      0.0                  94.0                    1/0/00   Personal Auto   \n",
       "2  48767.0                 108.0                    1/0/00   Personal Auto   \n",
       "3      0.0                 106.0                    1/0/00  Corporate Auto   \n",
       "4  36357.0                  68.0                    1/0/00   Personal Auto   \n",
       "\n",
       "   vehicle_class  total_claim_amount  \n",
       "0  Four-Door Car            2.704934  \n",
       "1  Four-Door Car         1131.464935  \n",
       "2   Two-Door Car          566.472247  \n",
       "3            SUV          529.881344  \n",
       "4  Four-Door Car           17.269323  "
      ]
     },
     "execution_count": 25,
     "metadata": {},
     "output_type": "execute_result"
    }
   ],
   "source": [
    "df.info()  # Check data types\n",
    "df.head()  # Check first few rows\n"
   ]
  },
  {
   "cell_type": "markdown",
   "id": "85ff78ce-0174-4890-9db3-8048b7d7d2d0",
   "metadata": {
    "id": "85ff78ce-0174-4890-9db3-8048b7d7d2d0"
   },
   "source": [
    "## Exercise 3: Formatting data types"
   ]
  },
  {
   "cell_type": "markdown",
   "id": "b91c2cf8-79a2-4baf-9f65-ff2fb22270bd",
   "metadata": {
    "id": "b91c2cf8-79a2-4baf-9f65-ff2fb22270bd"
   },
   "source": [
    "The data types of many columns in the dataset appear to be incorrect. This could impact the accuracy of our analysis. To ensure accurate analysis, we need to correct the data types of these columns. Please update the data types of the columns as appropriate."
   ]
  },
  {
   "cell_type": "markdown",
   "id": "43e5d853-ff9e-43b2-9d92-aef2f78764f3",
   "metadata": {
    "id": "43e5d853-ff9e-43b2-9d92-aef2f78764f3"
   },
   "source": [
    "It is important to note that this exercise does not involve handling null values (NaN or None)."
   ]
  },
  {
   "cell_type": "markdown",
   "id": "329ca691-9196-4419-8969-3596746237a1",
   "metadata": {
    "id": "329ca691-9196-4419-8969-3596746237a1"
   },
   "source": [
    "*Hint*:\n",
    "- *Customer lifetime value should be numeric*\n",
    "- *Number of open complaints has an incorrect format. Look at the different values it takes with `unique()` and take the middle value. As an example, 1/5/00 should be 5. Number of open complaints is a string - remember you can use `split()` to deal with it and take the number you need. Finally, since it should be numeric, cast the column to be in its proper type.*"
   ]
  },
  {
   "cell_type": "code",
   "execution_count": 27,
   "id": "eb8f5991-73e9-405f-bf1c-6b7c589379a9",
   "metadata": {
    "id": "eb8f5991-73e9-405f-bf1c-6b7c589379a9"
   },
   "outputs": [
    {
     "name": "stdout",
     "output_type": "stream",
     "text": [
      "float64\n"
     ]
    }
   ],
   "source": [
    "# Your code here\n",
    "df[\"customer_lifetime_value\"] = pd.to_numeric(df[\"customer_lifetime_value\"], errors=\"coerce\")\n",
    "\n",
    "# Verify changes\n",
    "print(df[\"customer_lifetime_value\"].dtype)  # Should be float64\n"
   ]
  },
  {
   "cell_type": "code",
   "execution_count": 29,
   "id": "63003dcc-6923-4e4c-b914-b7477cac7b52",
   "metadata": {},
   "outputs": [
    {
     "name": "stdout",
     "output_type": "stream",
     "text": [
      "[ 0.  2.  1.  3.  5.  4. nan]\n",
      "float64\n"
     ]
    }
   ],
   "source": [
    "# Extract the middle value (index 1) and convert to numeric\n",
    "df[\"number_of_open_complaints\"] = df[\"number_of_open_complaints\"].astype(str).apply(lambda x: x.split(\"/\")[1] if \"/\" in x else x)\n",
    "\n",
    "# Convert to numeric\n",
    "df[\"number_of_open_complaints\"] = pd.to_numeric(df[\"number_of_open_complaints\"], errors=\"coerce\")\n",
    "\n",
    "# Verify changes\n",
    "print(df[\"number_of_open_complaints\"].unique())  # Should only contain numbers\n",
    "print(df[\"number_of_open_complaints\"].dtype)  # Should be int64 or float64\n"
   ]
  },
  {
   "cell_type": "code",
   "execution_count": 31,
   "id": "5aa01a16-08cc-4056-9df6-fe934d52c40b",
   "metadata": {},
   "outputs": [
    {
     "name": "stdout",
     "output_type": "stream",
     "text": [
      "customer                      object\n",
      "state                         object\n",
      "gender                        object\n",
      "education                     object\n",
      "customer_lifetime_value      float64\n",
      "income                       float64\n",
      "monthly_premium_auto         float64\n",
      "number_of_open_complaints    float64\n",
      "policy_type                   object\n",
      "vehicle_class                 object\n",
      "total_claim_amount           float64\n",
      "dtype: object\n"
     ]
    }
   ],
   "source": [
    "print(df.dtypes)\n"
   ]
  },
  {
   "cell_type": "markdown",
   "id": "14c52e28-2d0c-4dd2-8bd5-3476e34fadc1",
   "metadata": {
    "id": "14c52e28-2d0c-4dd2-8bd5-3476e34fadc1"
   },
   "source": [
    "## Exercise 4: Dealing with Null values"
   ]
  },
  {
   "cell_type": "markdown",
   "id": "34b9a20f-7d32-4417-975e-1b4dfb0e16cd",
   "metadata": {
    "id": "34b9a20f-7d32-4417-975e-1b4dfb0e16cd"
   },
   "source": [
    "Identify any columns with null or missing values. Identify how many null values each column has. You can use the `isnull()` function in pandas to find columns with null values.\n",
    "\n",
    "Decide on a strategy for handling the null values. There are several options, including:\n",
    "\n",
    "- Drop the rows or columns with null values\n",
    "- Fill the null values with a specific value (such as the column mean or median for numerical variables, and mode for categorical variables)\n",
    "- Fill the null values with the previous or next value in the column\n",
    "- Fill the null values based on a more complex algorithm or model (note: we haven't covered this yet)\n",
    "\n",
    "Implement your chosen strategy to handle the null values. You can use the `fillna()` function in pandas to fill null values or `dropna()` function to drop null values.\n",
    "\n",
    "Verify that your strategy has successfully handled the null values. You can use the `isnull()` function again to check if there are still null values in the dataset.\n",
    "\n",
    "Remember to document your process and explain your reasoning for choosing a particular strategy for handling null values.\n",
    "\n",
    "After formatting data types, as a last step, convert all the numeric variables to integers."
   ]
  },
  {
   "cell_type": "code",
   "execution_count": 37,
   "id": "f184fc35-7831-4836-a0a5-e7f99e01b40e",
   "metadata": {
    "id": "f184fc35-7831-4836-a0a5-e7f99e01b40e"
   },
   "outputs": [],
   "source": [
    "# Your code here\n",
    "numeric_cols = df.select_dtypes(include=['number']).columns  # Get numeric columns\n",
    "df[numeric_cols] = df[numeric_cols].fillna(df[numeric_cols].median())\n",
    "\n"
   ]
  },
  {
   "cell_type": "code",
   "execution_count": 39,
   "id": "830f8294-a929-48aa-baf0-8128b984bfd1",
   "metadata": {},
   "outputs": [],
   "source": [
    "categorical_cols = df.select_dtypes(include=['object']).columns  # Get categorical columns\n",
    "df[categorical_cols] = df[categorical_cols].fillna(df[categorical_cols].mode().iloc[0])\n"
   ]
  },
  {
   "cell_type": "code",
   "execution_count": 41,
   "id": "2a418543-1110-4a97-8a88-a1081e7b816c",
   "metadata": {},
   "outputs": [
    {
     "name": "stdout",
     "output_type": "stream",
     "text": [
      "customer                     0\n",
      "state                        0\n",
      "gender                       0\n",
      "education                    0\n",
      "customer_lifetime_value      0\n",
      "income                       0\n",
      "monthly_premium_auto         0\n",
      "number_of_open_complaints    0\n",
      "policy_type                  0\n",
      "vehicle_class                0\n",
      "total_claim_amount           0\n",
      "dtype: int64\n"
     ]
    }
   ],
   "source": [
    "threshold = 0.5 * len(df)  # Set threshold (drop if >50% missing)\n",
    "df = df.dropna(axis=1, thresh=threshold)\n",
    "\n",
    "# Check again for missing values\n",
    "print(df.isnull().sum())\n"
   ]
  },
  {
   "cell_type": "code",
   "execution_count": 43,
   "id": "f0b81ec6-4dfd-4aa1-bc97-d4a872118e64",
   "metadata": {},
   "outputs": [
    {
     "name": "stdout",
     "output_type": "stream",
     "text": [
      "customer                     object\n",
      "state                        object\n",
      "gender                       object\n",
      "education                    object\n",
      "customer_lifetime_value       int64\n",
      "income                        int64\n",
      "monthly_premium_auto          int64\n",
      "number_of_open_complaints     int64\n",
      "policy_type                  object\n",
      "vehicle_class                object\n",
      "total_claim_amount            int64\n",
      "dtype: object\n"
     ]
    }
   ],
   "source": [
    "# Convert all numeric columns to integers\n",
    "df[numeric_cols] = df[numeric_cols].astype(int)\n",
    "\n",
    "# Verify changes\n",
    "print(df.dtypes)\n"
   ]
  },
  {
   "cell_type": "markdown",
   "id": "98416351-e999-4156-9834-9b00a311adfa",
   "metadata": {
    "id": "98416351-e999-4156-9834-9b00a311adfa"
   },
   "source": [
    "## Exercise 5: Dealing with duplicates"
   ]
  },
  {
   "cell_type": "markdown",
   "id": "ea0816a7-a18e-4d4c-b667-a8452a800bd1",
   "metadata": {
    "id": "ea0816a7-a18e-4d4c-b667-a8452a800bd1"
   },
   "source": [
    "Use the `.duplicated()` method to identify any duplicate rows in the dataframe.\n",
    "\n",
    "Decide on a strategy for handling the duplicates. Options include:\n",
    "- Dropping all duplicate rows\n",
    "- Keeping only the first occurrence of each duplicated row\n",
    "- Keeping only the last occurrence of each duplicated row\n",
    "- Dropping duplicates based on a subset of columns\n",
    "- Dropping duplicates based on a specific column\n",
    "\n",
    "Implement your chosen strategy using the `drop_duplicates()` function.\n",
    "\n",
    "Verify that your strategy has successfully handled the duplicates by checking for duplicates again using `.duplicated()`.\n",
    "\n",
    "Remember to document your process and explain your reasoning for choosing a particular strategy for handling duplicates.\n",
    "\n",
    "Save the cleaned dataset to a new CSV file.\n",
    "\n",
    "*Hint*: *after dropping duplicates, reset the index to ensure consistency*."
   ]
  },
  {
   "cell_type": "code",
   "execution_count": 55,
   "id": "1929362c-47ed-47cb-baca-358b78d401a0",
   "metadata": {
    "id": "1929362c-47ed-47cb-baca-358b78d401a0"
   },
   "outputs": [
    {
     "name": "stdout",
     "output_type": "stream",
     "text": [
      "Duplicate Rows:\n",
      "     Customer   ST GENDER Education Customer Lifetime Value  Income  \\\n",
      "1072      NaN  NaN    NaN       NaN                     NaN     NaN   \n",
      "1073      NaN  NaN    NaN       NaN                     NaN     NaN   \n",
      "1074      NaN  NaN    NaN       NaN                     NaN     NaN   \n",
      "1075      NaN  NaN    NaN       NaN                     NaN     NaN   \n",
      "1076      NaN  NaN    NaN       NaN                     NaN     NaN   \n",
      "...       ...  ...    ...       ...                     ...     ...   \n",
      "4003      NaN  NaN    NaN       NaN                     NaN     NaN   \n",
      "4004      NaN  NaN    NaN       NaN                     NaN     NaN   \n",
      "4005      NaN  NaN    NaN       NaN                     NaN     NaN   \n",
      "4006      NaN  NaN    NaN       NaN                     NaN     NaN   \n",
      "4007      NaN  NaN    NaN       NaN                     NaN     NaN   \n",
      "\n",
      "      Monthly Premium Auto Number of Open Complaints Policy Type  \\\n",
      "1072                   NaN                       NaN         NaN   \n",
      "1073                   NaN                       NaN         NaN   \n",
      "1074                   NaN                       NaN         NaN   \n",
      "1075                   NaN                       NaN         NaN   \n",
      "1076                   NaN                       NaN         NaN   \n",
      "...                    ...                       ...         ...   \n",
      "4003                   NaN                       NaN         NaN   \n",
      "4004                   NaN                       NaN         NaN   \n",
      "4005                   NaN                       NaN         NaN   \n",
      "4006                   NaN                       NaN         NaN   \n",
      "4007                   NaN                       NaN         NaN   \n",
      "\n",
      "     Vehicle Class  Total Claim Amount  \n",
      "1072           NaN                 NaN  \n",
      "1073           NaN                 NaN  \n",
      "1074           NaN                 NaN  \n",
      "1075           NaN                 NaN  \n",
      "1076           NaN                 NaN  \n",
      "...            ...                 ...  \n",
      "4003           NaN                 NaN  \n",
      "4004           NaN                 NaN  \n",
      "4005           NaN                 NaN  \n",
      "4006           NaN                 NaN  \n",
      "4007           NaN                 NaN  \n",
      "\n",
      "[2936 rows x 11 columns]\n"
     ]
    }
   ],
   "source": [
    "# Your code here\n",
    "import pandas as pd\n",
    "\n",
    "# Load dataset\n",
    "df = pd.read_csv(url)\n",
    "\n",
    "# Identify duplicate rows\n",
    "duplicates = df[df.duplicated()]\n",
    "print(\"Duplicate Rows:\")\n",
    "print(duplicates)\n"
   ]
  },
  {
   "cell_type": "code",
   "execution_count": 57,
   "id": "bc8c8c20-3f2d-430e-977c-c85e978aff25",
   "metadata": {},
   "outputs": [],
   "source": [
    "# Drop duplicate rows while keeping the first occurrence\n",
    "df_cleaned = df.drop_duplicates(keep='first')\n",
    "\n",
    "# Reset index\n",
    "df_cleaned.reset_index(drop=True, inplace=True)\n"
   ]
  },
  {
   "cell_type": "code",
   "execution_count": 59,
   "id": "cd35c803-2056-47ba-9593-1fa86ae76db6",
   "metadata": {},
   "outputs": [
    {
     "name": "stdout",
     "output_type": "stream",
     "text": [
      "Duplicates after cleaning:\n",
      "0\n"
     ]
    }
   ],
   "source": [
    "print(\"Duplicates after cleaning:\")\n",
    "print(df_cleaned.duplicated().sum())  # Should be 0\n"
   ]
  },
  {
   "cell_type": "code",
   "execution_count": 61,
   "id": "a7745c30-3221-4b9b-81b5-8489b8e7391d",
   "metadata": {},
   "outputs": [
    {
     "name": "stdout",
     "output_type": "stream",
     "text": [
      "Cleaned dataset saved successfully!\n"
     ]
    }
   ],
   "source": [
    "df_cleaned.to_csv(\"cleaned_dataset.csv\", index=False)\n",
    "print(\"Cleaned dataset saved successfully!\")\n"
   ]
  },
  {
   "cell_type": "code",
   "execution_count": null,
   "id": "dd493410-f8ed-40eb-a8db-d5f0e50fb839",
   "metadata": {},
   "outputs": [],
   "source": []
  },
  {
   "cell_type": "markdown",
   "id": "60840701-4783-40e2-b4d8-55303f9100c9",
   "metadata": {
    "id": "60840701-4783-40e2-b4d8-55303f9100c9"
   },
   "source": [
    "# Bonus: Challenge 2: creating functions on a separate `py` file"
   ]
  },
  {
   "cell_type": "markdown",
   "id": "9d1adb3a-17cf-4899-8041-da21a4337fb4",
   "metadata": {
    "id": "9d1adb3a-17cf-4899-8041-da21a4337fb4"
   },
   "source": [
    "Put all the data cleaning and formatting steps into functions, and create a main function that performs all the cleaning and formatting.\n",
    "\n",
    "Write these functions in separate .py file(s). By putting these steps into functions, we can make the code more modular and easier to maintain."
   ]
  },
  {
   "cell_type": "markdown",
   "id": "0e170dc2-b62c-417a-8248-e63ed18a70c4",
   "metadata": {
    "id": "0e170dc2-b62c-417a-8248-e63ed18a70c4"
   },
   "source": [
    "*Hint: autoreload module is a utility module in Python that allows you to automatically reload modules in the current session when changes are made to the source code. This can be useful in situations where you are actively developing code and want to see the effects of changes you make without having to constantly restart the Python interpreter or Jupyter Notebook kernel.*"
   ]
  },
  {
   "cell_type": "code",
   "execution_count": 91,
   "id": "f8fc9b69-a1eb-47a3-83ea-03747743d82e",
   "metadata": {},
   "outputs": [
    {
     "name": "stdout",
     "output_type": "stream",
     "text": [
      "/Users/ahmadkhalilghamai/Desktop/IH-labs/lab-dw-data-cleaning-and-formatting\n"
     ]
    }
   ],
   "source": [
    "import os\n",
    "print(os.getcwd())  # Prints the current working directory\n"
   ]
  },
  {
   "cell_type": "code",
   "execution_count": 101,
   "id": "d7b4606e-b091-41d9-962e-1cedf47e7ae0",
   "metadata": {},
   "outputs": [
    {
     "ename": "ModuleNotFoundError",
     "evalue": "No module named 'data_cleaning'",
     "output_type": "error",
     "traceback": [
      "\u001b[0;31m---------------------------------------------------------------------------\u001b[0m",
      "\u001b[0;31mModuleNotFoundError\u001b[0m                       Traceback (most recent call last)",
      "Cell \u001b[0;32mIn[101], line 4\u001b[0m\n\u001b[1;32m      1\u001b[0m \u001b[38;5;28;01mimport\u001b[39;00m \u001b[38;5;21;01msys\u001b[39;00m\n\u001b[1;32m      2\u001b[0m sys\u001b[38;5;241m.\u001b[39mpath\u001b[38;5;241m.\u001b[39mappend(\u001b[38;5;124m\"\u001b[39m\u001b[38;5;124m/Users/ahmadkhalilghamai/Desktop/IH-labs/lab-dw-data-cleaning-and-formatting\u001b[39m\u001b[38;5;124m\"\u001b[39m)\n\u001b[0;32m----> 4\u001b[0m \u001b[38;5;28;01mimport\u001b[39;00m \u001b[38;5;21;01mdata_cleaning\u001b[39;00m\n",
      "\u001b[0;31mModuleNotFoundError\u001b[0m: No module named 'data_cleaning'"
     ]
    }
   ],
   "source": [
    "import sys\n",
    "sys.path.append(\"/Users/ahmadkhalilghamai/Desktop/IH-labs/lab-dw-data-cleaning-and-formatting\")\n",
    "\n",
    "import data_cleaning  # Now try to import again\n",
    "\n",
    "\n",
    "\n"
   ]
  },
  {
   "cell_type": "code",
   "execution_count": 103,
   "id": "a52c6dfc-cd11-4d01-bda4-f719fa33e9a4",
   "metadata": {
    "id": "a52c6dfc-cd11-4d01-bda4-f719fa33e9a4"
   },
   "outputs": [],
   "source": [
    "# Your code here\n",
    "import pandas as pd\n",
    "\n",
    "def load_data(url):\n",
    "    \"\"\"Loads a CSV file into a DataFrame.\"\"\"\n",
    "    return pd.read_csv(file_path)\n",
    "\n",
    "def clean_customer_lifetime_value(df):\n",
    "    \"\"\"Cleans and converts the 'Customer Lifetime Value' column to a numeric format.\"\"\"\n",
    "    df[\"Customer Lifetime Value\"] = (\n",
    "        df[\"Customer Lifetime Value\"]\n",
    "        .astype(str)\n",
    "        .str.replace(r\"[\\$,%\\s]\", \"\", regex=True)  # Remove $, %, spaces\n",
    "        .astype(float)  # Convert to float\n",
    "    )\n",
    "    return df\n",
    "\n",
    "def identify_duplicates(df):\n",
    "    \"\"\"Identifies duplicate rows in the DataFrame.\"\"\"\n",
    "    return df[df.duplicated()]\n",
    "\n",
    "def remove_duplicates(df, keep=\"first\", subset=None):\n",
    "    \"\"\"\n",
    "    Removes duplicate rows from the DataFrame.\n",
    "\n",
    "    Parameters:\n",
    "    - keep: \"first\" (keep first occurrence), \"last\" (keep last), or False (remove all duplicates)\n",
    "    - subset: List of columns to consider for identifying duplicates\n",
    "\n",
    "    Returns:\n",
    "    - Cleaned DataFrame\n",
    "    \"\"\"\n",
    "    df_cleaned = df.drop_duplicates(keep=keep, subset=subset)\n",
    "    df_cleaned.reset_index(drop=True, inplace=True)\n",
    "    return df_cleaned\n",
    "\n",
    "def filter_high_claim_low_clv(df):\n",
    "    \"\"\"\n",
    "    Filters customers with high policy claim amounts (above 75th percentile)\n",
    "    and low customer lifetime value (below 25th percentile).\n",
    "    \"\"\"\n",
    "    high_claim_threshold = df[\"Total Claim Amount\"].quantile(0.75)\n",
    "    low_clv_threshold = df[\"Customer Lifetime Value\"].quantile(0.25)\n",
    "\n",
    "    filtered_df = df[\n",
    "        (df[\"Total Claim Amount\"] > high_claim_threshold) &\n",
    "        (df[\"Customer Lifetime Value\"] < low_clv_threshold)\n",
    "    ]\n",
    "    \n",
    "    return filtered_df\n",
    "\n",
    "def save_data(df, file_path):\n",
    "    \"\"\"Saves the cleaned DataFrame to a CSV file.\"\"\"\n",
    "    df.to_csv(file_path, index=False)\n",
    "    print(f\"Cleaned dataset saved to {file_path}\")\n"
   ]
  },
  {
   "cell_type": "code",
   "execution_count": 105,
   "id": "0b2f3bb5-a7b4-476d-a538-cb135fef550d",
   "metadata": {},
   "outputs": [
    {
     "ename": "ModuleNotFoundError",
     "evalue": "No module named 'data_cleaning'",
     "output_type": "error",
     "traceback": [
      "\u001b[0;31m---------------------------------------------------------------------------\u001b[0m",
      "\u001b[0;31mModuleNotFoundError\u001b[0m                       Traceback (most recent call last)",
      "Cell \u001b[0;32mIn[105], line 1\u001b[0m\n\u001b[0;32m----> 1\u001b[0m \u001b[38;5;28;01mimport\u001b[39;00m \u001b[38;5;21;01mdata_cleaning\u001b[39;00m\n\u001b[1;32m      3\u001b[0m \u001b[38;5;28;01mdef\u001b[39;00m \u001b[38;5;21mmain\u001b[39m():\n\u001b[1;32m      4\u001b[0m     \u001b[38;5;66;03m# Load the dataset\u001b[39;00m\n\u001b[1;32m      5\u001b[0m     file_path \u001b[38;5;241m=\u001b[39m (\u001b[38;5;124m\"\u001b[39m\u001b[38;5;124m/Users/ahmadkhalilghamai/Desktop/IH-labs/lab-dw-data-cleaning-and-formatting/cleaned_dataset.csv\u001b[39m\u001b[38;5;124m\"\u001b[39m)\n",
      "\u001b[0;31mModuleNotFoundError\u001b[0m: No module named 'data_cleaning'"
     ]
    }
   ],
   "source": [
    "import data_cleaning\n",
    "\n",
    "def main():\n",
    "    # Load the dataset\n",
    "    file_path = (\"/Users/ahmadkhalilghamai/Desktop/IH-labs/lab-dw-data-cleaning-and-formatting/cleaned_dataset.csv\")\n",
    "    df = data_cleaning.load_data(file_path)\n",
    "\n",
    "    # Identify duplicates\n",
    "    print(\"Checking for duplicate rows...\")\n",
    "    duplicates = data_cleaning.identify_duplicates(df)\n",
    "    if not duplicates.empty:\n",
    "        print(f\"Found {len(duplicates)} duplicate rows.\")\n",
    "\n",
    "    # Remove duplicates (keeping the first occurrence)\n",
    "    df_cleaned = data_cleaning.remove_duplicates(df, keep=\"first\")\n",
    "\n",
    "    # Verify the duplicates are removed\n",
    "    remaining_duplicates = data_cleaning.identify_duplicates(df_cleaned)\n",
    "    print(f\"Remaining duplicates after cleaning: {len(remaining_duplicates)}\")\n",
    "\n",
    "    # Save the cleaned dataset\n",
    "    output_file = \"cleaned_dataset.csv\"\n",
    "    data_cleaning.save_data(df_cleaned, output_file)\n",
    "\n",
    "if __name__ == \"__main__\":\n",
    "    main()\n"
   ]
  },
  {
   "cell_type": "markdown",
   "id": "80f846bb-3f5e-4ca2-96c0-900728daca5a",
   "metadata": {
    "id": "80f846bb-3f5e-4ca2-96c0-900728daca5a",
    "tags": []
   },
   "source": [
    "# Bonus: Challenge 3: Analyzing Clean and Formated Data"
   ]
  },
  {
   "cell_type": "markdown",
   "id": "9021630e-cc90-446c-b5bd-264d6c864207",
   "metadata": {
    "id": "9021630e-cc90-446c-b5bd-264d6c864207"
   },
   "source": [
    "You have been tasked with analyzing the data to identify potential areas for improving customer retention and profitability. Your goal is to identify customers with a high policy claim amount and a low customer lifetime value.\n",
    "\n",
    "In the Pandas Lab, we only looked at high policy claim amounts because we couldn't look into low customer lifetime values. If we had tried to work with that column, we wouldn't have been able to because customer lifetime value wasn't clean and in its proper format. So after cleaning and formatting the data, let's get some more interesting insights!\n",
    "\n",
    "Instructions:\n",
    "\n",
    "- Review the statistics again for total claim amount and customer lifetime value to gain an understanding of the data.\n",
    "- To identify potential areas for improving customer retention and profitability, we want to focus on customers with a high policy claim amount and a low customer lifetime value. Consider customers with a high policy claim amount to be those in the top 25% of the total claim amount, and clients with a low customer lifetime value to be those in the bottom 25% of the customer lifetime value. Create a pandas DataFrame object that contains information about customers with a policy claim amount greater than the 75th percentile and a customer lifetime value in the bottom 25th percentile.\n",
    "- Use DataFrame methods to calculate summary statistics about the high policy claim amount and low customer lifetime value data. To do so, select both columns of the dataframe simultaneously and pass it to the `.describe()` method. This will give you descriptive statistics, such as mean, median, standard deviation, minimum and maximum values for both columns at the same time, allowing you to compare and analyze their characteristics."
   ]
  },
  {
   "cell_type": "code",
   "execution_count": 87,
   "id": "211e82b5-461a-4d6f-8a23-4deccb84173c",
   "metadata": {
    "id": "211e82b5-461a-4d6f-8a23-4deccb84173c"
   },
   "outputs": [
    {
     "name": "stdout",
     "output_type": "stream",
     "text": [
      "       Total Claim Amount  Customer Lifetime Value\n",
      "count         1071.000000             1.068000e+03\n",
      "mean           404.986909             7.936903e+05\n",
      "std            293.027260             6.434784e+05\n",
      "min              0.382107             2.004351e+05\n",
      "25%            202.157702             4.034080e+05\n",
      "50%            354.729129             5.881742e+05\n",
      "75%            532.800000             8.962872e+05\n",
      "max           2893.239678             5.816655e+06\n"
     ]
    }
   ],
   "source": [
    "import pandas as pd\n",
    "\n",
    "# Load the dataset\n",
    "df = pd.read_csv(url)\n",
    "\n",
    "# Clean the 'Customer Lifetime Value' column (remove $, %, spaces)\n",
    "df[\"Customer Lifetime Value\"] = (\n",
    "    df[\"Customer Lifetime Value\"]\n",
    "    .astype(str)\n",
    "    .str.replace(r\"[\\$,%\\s]\", \"\", regex=True)  # Remove unwanted symbols\n",
    "    .astype(float)  # Convert to float\n",
    ")\n",
    "\n",
    "# Check data statistics after cleaning\n",
    "print(df[[\"Total Claim Amount\", \"Customer Lifetime Value\"]].describe())\n",
    "\n"
   ]
  },
  {
   "cell_type": "code",
   "execution_count": 79,
   "id": "a9763ab0-4ee9-4f25-af28-ea4d51f14ab3",
   "metadata": {},
   "outputs": [
    {
     "name": "stdout",
     "output_type": "stream",
     "text": [
      "0           NaN\n",
      "1     697953.59\n",
      "2    1288743.17\n",
      "3     764586.18\n",
      "4     536307.65\n",
      "Name: Customer Lifetime Value, dtype: float64\n"
     ]
    }
   ],
   "source": [
    "import pandas as pd\n",
    "\n",
    "# Load the dataset\n",
    "df = pd.read_csv(url)\n",
    "\n",
    "# Clean the 'Customer Lifetime Value' column\n",
    "df[\"Customer Lifetime Value\"] = (\n",
    "    df[\"Customer Lifetime Value\"]\n",
    "    .astype(str)  # Convert to string to allow replacements\n",
    "    .str.replace(r\"[\\$,%\\s]\", \"\", regex=True)  # Remove $, %, spaces\n",
    "    .astype(float)  # Convert to float\n",
    ")\n",
    "\n",
    "# Verify the changes\n",
    "print(df[\"Customer Lifetime Value\"].head())\n"
   ]
  },
  {
   "cell_type": "code",
   "execution_count": 81,
   "id": "8434b63a-6398-4a59-b068-a6e4b41e7a29",
   "metadata": {},
   "outputs": [
    {
     "data": {
      "text/html": [
       "<div>\n",
       "<style scoped>\n",
       "    .dataframe tbody tr th:only-of-type {\n",
       "        vertical-align: middle;\n",
       "    }\n",
       "\n",
       "    .dataframe tbody tr th {\n",
       "        vertical-align: top;\n",
       "    }\n",
       "\n",
       "    .dataframe thead th {\n",
       "        text-align: right;\n",
       "    }\n",
       "</style>\n",
       "<table border=\"1\" class=\"dataframe\">\n",
       "  <thead>\n",
       "    <tr style=\"text-align: right;\">\n",
       "      <th></th>\n",
       "      <th>Total Claim Amount</th>\n",
       "      <th>Customer Lifetime Value</th>\n",
       "    </tr>\n",
       "  </thead>\n",
       "  <tbody>\n",
       "    <tr>\n",
       "      <th>count</th>\n",
       "      <td>1071.000000</td>\n",
       "      <td>1.068000e+03</td>\n",
       "    </tr>\n",
       "    <tr>\n",
       "      <th>mean</th>\n",
       "      <td>404.986909</td>\n",
       "      <td>7.936903e+05</td>\n",
       "    </tr>\n",
       "    <tr>\n",
       "      <th>std</th>\n",
       "      <td>293.027260</td>\n",
       "      <td>6.434784e+05</td>\n",
       "    </tr>\n",
       "    <tr>\n",
       "      <th>min</th>\n",
       "      <td>0.382107</td>\n",
       "      <td>2.004351e+05</td>\n",
       "    </tr>\n",
       "    <tr>\n",
       "      <th>25%</th>\n",
       "      <td>202.157702</td>\n",
       "      <td>4.034080e+05</td>\n",
       "    </tr>\n",
       "    <tr>\n",
       "      <th>50%</th>\n",
       "      <td>354.729129</td>\n",
       "      <td>5.881742e+05</td>\n",
       "    </tr>\n",
       "    <tr>\n",
       "      <th>75%</th>\n",
       "      <td>532.800000</td>\n",
       "      <td>8.962872e+05</td>\n",
       "    </tr>\n",
       "    <tr>\n",
       "      <th>max</th>\n",
       "      <td>2893.239678</td>\n",
       "      <td>5.816655e+06</td>\n",
       "    </tr>\n",
       "  </tbody>\n",
       "</table>\n",
       "</div>"
      ],
      "text/plain": [
       "       Total Claim Amount  Customer Lifetime Value\n",
       "count         1071.000000             1.068000e+03\n",
       "mean           404.986909             7.936903e+05\n",
       "std            293.027260             6.434784e+05\n",
       "min              0.382107             2.004351e+05\n",
       "25%            202.157702             4.034080e+05\n",
       "50%            354.729129             5.881742e+05\n",
       "75%            532.800000             8.962872e+05\n",
       "max           2893.239678             5.816655e+06"
      ]
     },
     "execution_count": 81,
     "metadata": {},
     "output_type": "execute_result"
    }
   ],
   "source": [
    "# Get summary statistics for 'Total Claim Amount' and 'Customer Lifetime Value'\n",
    "df[[\"Total Claim Amount\", \"Customer Lifetime Value\"]].describe()\n"
   ]
  },
  {
   "cell_type": "code",
   "execution_count": 83,
   "id": "ce983be7-24e3-42fc-a68c-467985cf978d",
   "metadata": {},
   "outputs": [
    {
     "name": "stdout",
     "output_type": "stream",
     "text": [
      "   Customer          ST GENDER Education  Customer Lifetime Value   Income  \\\n",
      "17  OE15005        Cali    NaN   College                394524.16  28855.0   \n",
      "23  TZ98966      Nevada    NaN  Bachelor                245019.10      0.0   \n",
      "26  US89481  California    NaN  Bachelor                394637.21      0.0   \n",
      "38  CM61827      Oregon    NaN  Bachelor                309003.41      0.0   \n",
      "42  IL19217  California    NaN  Bachelor                393900.64  60021.0   \n",
      "\n",
      "    Monthly Premium Auto Number of Open Complaints     Policy Type  \\\n",
      "17                 101.0                    1/0/00   Personal Auto   \n",
      "23                  73.0                    1/3/00  Corporate Auto   \n",
      "26                 111.0                    1/0/00   Personal Auto   \n",
      "38                  90.0                    1/0/00   Personal Auto   \n",
      "42                  99.0                    1/0/00   Personal Auto   \n",
      "\n",
      "    Vehicle Class  Total Claim Amount  \n",
      "17            SUV          647.442031  \n",
      "23  Four-Door Car          554.376763  \n",
      "26  Four-Door Car          799.200000  \n",
      "38   Two-Door Car          648.000000  \n",
      "42  Four-Door Car          882.871945  \n"
     ]
    }
   ],
   "source": [
    "# Calculate the 75th percentile for 'Total Claim Amount'\n",
    "high_claim_threshold = df[\"Total Claim Amount\"].quantile(0.75)\n",
    "\n",
    "# Calculate the 25th percentile for 'Customer Lifetime Value'\n",
    "low_clv_threshold = df[\"Customer Lifetime Value\"].quantile(0.25)\n",
    "\n",
    "# Filter customers meeting both conditions\n",
    "high_claim_low_clv_customers = df[\n",
    "    (df[\"Total Claim Amount\"] > high_claim_threshold)\n",
    "    & (df[\"Customer Lifetime Value\"] < low_clv_threshold)\n",
    "]\n",
    "\n",
    "# Display the filtered DataFrame\n",
    "print(high_claim_low_clv_customers.head())\n"
   ]
  },
  {
   "cell_type": "code",
   "execution_count": 85,
   "id": "27686e57-e3b6-4f5a-94fb-1b19df62fe9f",
   "metadata": {},
   "outputs": [
    {
     "data": {
      "text/html": [
       "<div>\n",
       "<style scoped>\n",
       "    .dataframe tbody tr th:only-of-type {\n",
       "        vertical-align: middle;\n",
       "    }\n",
       "\n",
       "    .dataframe tbody tr th {\n",
       "        vertical-align: top;\n",
       "    }\n",
       "\n",
       "    .dataframe thead th {\n",
       "        text-align: right;\n",
       "    }\n",
       "</style>\n",
       "<table border=\"1\" class=\"dataframe\">\n",
       "  <thead>\n",
       "    <tr style=\"text-align: right;\">\n",
       "      <th></th>\n",
       "      <th>Total Claim Amount</th>\n",
       "      <th>Customer Lifetime Value</th>\n",
       "    </tr>\n",
       "  </thead>\n",
       "  <tbody>\n",
       "    <tr>\n",
       "      <th>count</th>\n",
       "      <td>40.000000</td>\n",
       "      <td>40.000000</td>\n",
       "    </tr>\n",
       "    <tr>\n",
       "      <th>mean</th>\n",
       "      <td>723.776577</td>\n",
       "      <td>341577.910000</td>\n",
       "    </tr>\n",
       "    <tr>\n",
       "      <th>std</th>\n",
       "      <td>149.280606</td>\n",
       "      <td>56921.472027</td>\n",
       "    </tr>\n",
       "    <tr>\n",
       "      <th>min</th>\n",
       "      <td>537.600000</td>\n",
       "      <td>228759.690000</td>\n",
       "    </tr>\n",
       "    <tr>\n",
       "      <th>25%</th>\n",
       "      <td>633.378846</td>\n",
       "      <td>304220.875000</td>\n",
       "    </tr>\n",
       "    <tr>\n",
       "      <th>50%</th>\n",
       "      <td>685.284189</td>\n",
       "      <td>365995.370000</td>\n",
       "    </tr>\n",
       "    <tr>\n",
       "      <th>75%</th>\n",
       "      <td>799.200000</td>\n",
       "      <td>387364.700000</td>\n",
       "    </tr>\n",
       "    <tr>\n",
       "      <th>max</th>\n",
       "      <td>1185.988301</td>\n",
       "      <td>402381.440000</td>\n",
       "    </tr>\n",
       "  </tbody>\n",
       "</table>\n",
       "</div>"
      ],
      "text/plain": [
       "       Total Claim Amount  Customer Lifetime Value\n",
       "count           40.000000                40.000000\n",
       "mean           723.776577            341577.910000\n",
       "std            149.280606             56921.472027\n",
       "min            537.600000            228759.690000\n",
       "25%            633.378846            304220.875000\n",
       "50%            685.284189            365995.370000\n",
       "75%            799.200000            387364.700000\n",
       "max           1185.988301            402381.440000"
      ]
     },
     "execution_count": 85,
     "metadata": {},
     "output_type": "execute_result"
    }
   ],
   "source": [
    "# Get summary statistics for 'Total Claim Amount' and 'Customer Lifetime Value' for filtered customers\n",
    "high_claim_low_clv_customers[[\"Total Claim Amount\", \"Customer Lifetime Value\"]].describe()\n"
   ]
  },
  {
   "cell_type": "code",
   "execution_count": null,
   "id": "5a6276da-97f1-4a9d-93e6-48e79e4ee702",
   "metadata": {},
   "outputs": [],
   "source": []
  }
 ],
 "metadata": {
  "colab": {
   "provenance": []
  },
  "kernelspec": {
   "display_name": "Python 3 (ipykernel)",
   "language": "python",
   "name": "python3"
  },
  "language_info": {
   "codemirror_mode": {
    "name": "ipython",
    "version": 3
   },
   "file_extension": ".py",
   "mimetype": "text/x-python",
   "name": "python",
   "nbconvert_exporter": "python",
   "pygments_lexer": "ipython3",
   "version": "3.12.7"
  }
 },
 "nbformat": 4,
 "nbformat_minor": 5
}
